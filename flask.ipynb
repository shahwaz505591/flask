{
 "cells": [
  {
   "cell_type": "code",
   "execution_count": null,
   "id": "f03e6dd5-fc85-4a8d-919a-8a18d40ceb15",
   "metadata": {},
   "outputs": [],
   "source": [
    "\n",
    "\n"
   ]
  },
  {
   "cell_type": "markdown",
   "id": "3039d0bf-1287-4d19-ab61-c477adea6260",
   "metadata": {},
   "source": [
    "Q1. What is Flask Framework? What are the advantages of Flask Framework?\n",
    "\n",
    "Ans:\n",
    "Flask is a lightweight web framework written in Python that allows developers to quickly build web applications.\n",
    "It is known for its simplicity, flexibility, and scalability, and it is widely used for building small to medium-sized web applications.\n",
    "\n",
    "Some advantages of using Flask include:\n",
    "\n",
    "1.Lightweight and flexible: Flask is lightweight and flexible, making it easy to learn and use. \n",
    "It is not overly opinionated about how to structure your application, allowing you to choose the components you want to use.\n",
    "\n",
    "2.Easy to get started: Flask has a simple and easy-to-understand API, making it easy for developers to get started with building web applications quickly.\n",
    "\n",
    "3.Extensible: Flask is extensible, meaning that you can add more functionality to your application by integrating it with other third-party libraries and tools.\n",
    "\n",
    "4.Modular: Flask is modular, which means that you can break your application down into smaller parts or modules, making it easier to maintain and test.\n",
    "\n",
    "5.Large community: Flask has a large and active community of developers, which means that you can easily find support and resources when you need them.\n",
    "\n",
    "6.Built-in development server: Flask comes with a built-in development server, which makes it easy to test your application during development.\n",
    "\n",
    "7.Scalable: Flask is scalable and can handle large-scale web applications with ease, making it a popular choice among developers."
   ]
  },
  {
   "cell_type": "markdown",
   "id": "2eb4063c-23e4-494e-a2f4-b56384abbb4d",
   "metadata": {},
   "source": [
    "Q2. Create a simple Flask application to display ‘Hello World!!’.\n",
    "Ans:\n",
    "    from flask import Flask\n",
    "app = Flask(__name__)\n",
    "@app.route(\"/\")\n",
    "def hello_world():\n",
    "    return \"<h1>‘Hello World!!’</h1>\"\n",
    "if __name__ == '__main__':\n",
    "    app.run().\n",
    "    \n",
    "    \n",
    "   ###### photo:\n",
    "        #%%html\n",
    "        #<img scr:\"C:\\Users\\mohds\\OneDrive\\Pictures\\Screenshots\\helllllo!.png\",width=200,height=200>"
   ]
  },
  {
   "cell_type": "markdown",
   "id": "8b45508a-15bf-4e47-af3b-f73a65cfb035",
   "metadata": {},
   "source": [
    "Q3. What is App routing in Flask? Why do we use app routes?\n",
    "Ans:\n",
    "\n",
    "App routing in Flask refers to defining URL routes for your web application. It involves mapping specific URLs to Python functions that handle requests for those URLs. In other words, app routing determines how your Flask application responds to different URLs.\n",
    "\n",
    "We use app routes in Flask for several reasons:\n",
    "\n",
    "URL Mapping: App routes allow you to map specific URLs to Python functions, making it easy to organize and handle different parts of your web application.\n",
    "\n",
    "Routing Logic: They define the logic that should be executed when a particular URL is accessed. This logic can involve rendering templates, processing data, or returning JSON responses.\n",
    "\n",
    "Clean Code: App routes help keep your code organized and maintainable by separating different functionalities based on URLs.\n",
    "\n",
    "RESTful APIs: If you're building RESTful APIs, app routes are essential for defining the endpoints and methods (e.g., GET, POST, PUT, DELETE) your API supports.\n",
    "\n",
    "Dynamic URLs: App routes allow you to work with dynamic URLs by using route parameters, making it possible to handle variable parts of the URL.\n",
    "\n",
    "HTTP Methods: You can specify which HTTP methods (e.g., GET, POST) are allowed for each route, controlling how clients can interact with your application.\n",
    "\n",
    "Overall, app routes are a fundamental concept in Flask, enabling you to define the structure and behavior of your web application."
   ]
  },
  {
   "cell_type": "markdown",
   "id": "63e665e7-9972-4888-b9e0-df1628dbe541",
   "metadata": {},
   "source": [
    "# Q4. Create a “/welcome” route to display the welcome message “Welcome to ABC Corporation” and a “/”\n",
    "# /route to show the following details:\n",
    "#Company Name: ABC Corporation\n",
    "#Location: India\n",
    "#Contact Detail: 999-999-9999\n",
    "#Ans:\n",
    "    ![\"/welcome\"](\"C:\\Users\\mohds\\OneDrive\\Pictures\\Screenshots\\Screenshot 2023-09-20 115524.png\")\n",
    "2.![\"/\"](\"C:\\Users\\mohds\\OneDrive\\Pictures\\Screenshots\\Screenshot 2023-09-20 115441.png\")\n"
   ]
  },
  {
   "cell_type": "markdown",
   "id": "a0609149-062b-4865-a6f5-4ea21219f924",
   "metadata": {},
   "source": [
    "![title](C:\\Users\\mohds\\OneDrive\\Pictures\\Screenshots\\welcom_abc.png)"
   ]
  },
  {
   "cell_type": "code",
   "execution_count": 9,
   "id": "c738ab18-4efb-4b13-8c0d-897f69e7312d",
   "metadata": {},
   "outputs": [
    {
     "data": {
      "text/html": [
       "<img scr='C:\\Users\\mohds\\OneDrive\\Pictures\\Screenshots\\com_detals.png', width=200, height = 200>\n"
      ],
      "text/plain": [
       "<IPython.core.display.HTML object>"
      ]
     },
     "metadata": {},
     "output_type": "display_data"
    }
   ],
   "source": [
    "%%html\n",
    "<img scr='C:\\Users\\mohds\\OneDrive\\Pictures\\Screenshots\\com_detals.png', width=200, height = 200>"
   ]
  },
  {
   "cell_type": "markdown",
   "id": "fa32ee7d-1c17-41fa-b322-d0002fa41151",
   "metadata": {},
   "source": [
    "Q5. What function is used in Flask for URL Building? Write a Python code to demonstrate the working of the\n",
    "url_for() function.\n",
    "Ans:\n",
    "    The url_for() function in Flask is used for URL building. It generates a URL for a given endpoint (view function) based on its name and any route parameters it may have. This is useful because it allows you to create URLs dynamically, making your code more maintainable and adaptable to changes in your routes.\n",
    "\n",
    "Here's a Python code example that demonstrates how to use url_for():\n",
    "\n",
    "from flask import Flask, url_for\n",
    "\n",
    "app = Flask(__name__)\n",
    "\n",
    "@app.route('/')\n",
    "def home():\n",
    "    return 'Welcome to the home page.'\n",
    "\n",
    "@app.route('/profile/<username>')\n",
    "def profile(username):\n",
    "    return f'Profile page for {username}'\n",
    "\n",
    "if __name__ == '__main__':\n",
    "    with app.test_request_context():\n",
    "        # Generate URLs using url_for()\n",
    "        home_url = url_for('home')\n",
    "        profile_url = url_for('profile', username='john_doe')\n",
    "        \n",
    "        print(f'Home URL: {home_url}')\n",
    "        print(f'Profile URL: {profile_url}')\n"
   ]
  },
  {
   "cell_type": "code",
   "execution_count": null,
   "id": "8c8384b1-a15e-48f4-8283-e6d7666eb02e",
   "metadata": {},
   "outputs": [],
   "source": []
  }
 ],
 "metadata": {
  "kernelspec": {
   "display_name": "Python 3 (ipykernel)",
   "language": "python",
   "name": "python3"
  },
  "language_info": {
   "codemirror_mode": {
    "name": "ipython",
    "version": 3
   },
   "file_extension": ".py",
   "mimetype": "text/x-python",
   "name": "python",
   "nbconvert_exporter": "python",
   "pygments_lexer": "ipython3",
   "version": "3.10.8"
  }
 },
 "nbformat": 4,
 "nbformat_minor": 5
}
